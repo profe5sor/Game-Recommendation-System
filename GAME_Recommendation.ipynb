{
  "cells": [
    {
      "cell_type": "code",
      "execution_count": 1,
      "metadata": {
        "id": "MCYe4VH89u6d",
        "colab": {
          "base_uri": "https://localhost:8080/"
        },
        "outputId": "9c6fe447-ea83-4e1f-dbcf-0d7008e5b0b9"
      },
      "outputs": [
        {
          "output_type": "stream",
          "name": "stdout",
          "text": [
            "Mounted at /content/drive\n"
          ]
        }
      ],
      "source": [
        "from google.colab import drive\n",
        "drive.mount('/content/drive')"
      ]
    },
    {
      "cell_type": "code",
      "execution_count": 2,
      "metadata": {
        "id": "Zclyd8c4-QbM"
      },
      "outputs": [],
      "source": [
        "#Importing Libraries\n",
        "import numpy as np\n",
        "import pandas as pd\n",
        "import difflib #for close text match\n",
        "from sklearn.feature_extraction.text import TfidfVectorizer\n",
        "from nltk.stem.porter import PorterStemmer\n",
        "from sklearn.metrics.pairwise import cosine_similarity"
      ]
    },
    {
      "cell_type": "code",
      "execution_count": 3,
      "metadata": {
        "id": "XqKE8gWN-ZPU"
      },
      "outputs": [],
      "source": [
        "#Reading Data\n",
        "game = pd.read_csv(\"/content/drive/MyDrive/ML/GameRecom/games.csv\")\n",
        "gen = pd.read_csv(\"/content/drive/MyDrive/ML/GameRecom/genre.csv\")"
      ]
    },
    {
      "cell_type": "code",
      "execution_count": 4,
      "metadata": {
        "colab": {
          "base_uri": "https://localhost:8080/",
          "height": 424
        },
        "id": "IkJfd9vrAnkj",
        "outputId": "b1b7a6f3-11b8-4de9-f6c1-164f38937b7b"
      },
      "outputs": [
        {
          "output_type": "stream",
          "name": "stdout",
          "text": [
            "(21236, 13)\n"
          ]
        },
        {
          "output_type": "execute_result",
          "data": {
            "text/plain": [
              "   app_id                              title date_release   win    mac  linux  \\\n",
              "0   10090         Call of Duty: World at War   2008-11-18  True  False  False   \n",
              "1   13500  Prince of Persia: Warrior Within™   2008-11-21  True  False  False   \n",
              "2   22364            BRINK: Agents of Change   2011-08-03  True  False  False   \n",
              "3  113020       Monaco: What's Yours Is Mine   2013-04-24  True   True   True   \n",
              "4  226560                 Escape Dead Island   2014-11-18  True  False  False   \n",
              "\n",
              "          rating  positive_ratio  user_reviews  price_final  price_original  \\\n",
              "0  Very Positive              92         37039        19.99           19.99   \n",
              "1  Very Positive              84          2199         9.99            9.99   \n",
              "2       Positive              85            21         2.99            2.99   \n",
              "3  Very Positive              92          3722        14.99           14.99   \n",
              "4          Mixed              61           873        14.99           14.99   \n",
              "\n",
              "   discount  steam_deck  \n",
              "0       0.0        True  \n",
              "1       0.0        True  \n",
              "2       0.0        True  \n",
              "3       0.0        True  \n",
              "4       0.0        True  "
            ],
            "text/html": [
              "\n",
              "  <div id=\"df-daba9948-2325-418f-b573-169e6f5b5a0b\">\n",
              "    <div class=\"colab-df-container\">\n",
              "      <div>\n",
              "<style scoped>\n",
              "    .dataframe tbody tr th:only-of-type {\n",
              "        vertical-align: middle;\n",
              "    }\n",
              "\n",
              "    .dataframe tbody tr th {\n",
              "        vertical-align: top;\n",
              "    }\n",
              "\n",
              "    .dataframe thead th {\n",
              "        text-align: right;\n",
              "    }\n",
              "</style>\n",
              "<table border=\"1\" class=\"dataframe\">\n",
              "  <thead>\n",
              "    <tr style=\"text-align: right;\">\n",
              "      <th></th>\n",
              "      <th>app_id</th>\n",
              "      <th>title</th>\n",
              "      <th>date_release</th>\n",
              "      <th>win</th>\n",
              "      <th>mac</th>\n",
              "      <th>linux</th>\n",
              "      <th>rating</th>\n",
              "      <th>positive_ratio</th>\n",
              "      <th>user_reviews</th>\n",
              "      <th>price_final</th>\n",
              "      <th>price_original</th>\n",
              "      <th>discount</th>\n",
              "      <th>steam_deck</th>\n",
              "    </tr>\n",
              "  </thead>\n",
              "  <tbody>\n",
              "    <tr>\n",
              "      <th>0</th>\n",
              "      <td>10090</td>\n",
              "      <td>Call of Duty: World at War</td>\n",
              "      <td>2008-11-18</td>\n",
              "      <td>True</td>\n",
              "      <td>False</td>\n",
              "      <td>False</td>\n",
              "      <td>Very Positive</td>\n",
              "      <td>92</td>\n",
              "      <td>37039</td>\n",
              "      <td>19.99</td>\n",
              "      <td>19.99</td>\n",
              "      <td>0.0</td>\n",
              "      <td>True</td>\n",
              "    </tr>\n",
              "    <tr>\n",
              "      <th>1</th>\n",
              "      <td>13500</td>\n",
              "      <td>Prince of Persia: Warrior Within™</td>\n",
              "      <td>2008-11-21</td>\n",
              "      <td>True</td>\n",
              "      <td>False</td>\n",
              "      <td>False</td>\n",
              "      <td>Very Positive</td>\n",
              "      <td>84</td>\n",
              "      <td>2199</td>\n",
              "      <td>9.99</td>\n",
              "      <td>9.99</td>\n",
              "      <td>0.0</td>\n",
              "      <td>True</td>\n",
              "    </tr>\n",
              "    <tr>\n",
              "      <th>2</th>\n",
              "      <td>22364</td>\n",
              "      <td>BRINK: Agents of Change</td>\n",
              "      <td>2011-08-03</td>\n",
              "      <td>True</td>\n",
              "      <td>False</td>\n",
              "      <td>False</td>\n",
              "      <td>Positive</td>\n",
              "      <td>85</td>\n",
              "      <td>21</td>\n",
              "      <td>2.99</td>\n",
              "      <td>2.99</td>\n",
              "      <td>0.0</td>\n",
              "      <td>True</td>\n",
              "    </tr>\n",
              "    <tr>\n",
              "      <th>3</th>\n",
              "      <td>113020</td>\n",
              "      <td>Monaco: What's Yours Is Mine</td>\n",
              "      <td>2013-04-24</td>\n",
              "      <td>True</td>\n",
              "      <td>True</td>\n",
              "      <td>True</td>\n",
              "      <td>Very Positive</td>\n",
              "      <td>92</td>\n",
              "      <td>3722</td>\n",
              "      <td>14.99</td>\n",
              "      <td>14.99</td>\n",
              "      <td>0.0</td>\n",
              "      <td>True</td>\n",
              "    </tr>\n",
              "    <tr>\n",
              "      <th>4</th>\n",
              "      <td>226560</td>\n",
              "      <td>Escape Dead Island</td>\n",
              "      <td>2014-11-18</td>\n",
              "      <td>True</td>\n",
              "      <td>False</td>\n",
              "      <td>False</td>\n",
              "      <td>Mixed</td>\n",
              "      <td>61</td>\n",
              "      <td>873</td>\n",
              "      <td>14.99</td>\n",
              "      <td>14.99</td>\n",
              "      <td>0.0</td>\n",
              "      <td>True</td>\n",
              "    </tr>\n",
              "  </tbody>\n",
              "</table>\n",
              "</div>\n",
              "      <button class=\"colab-df-convert\" onclick=\"convertToInteractive('df-daba9948-2325-418f-b573-169e6f5b5a0b')\"\n",
              "              title=\"Convert this dataframe to an interactive table.\"\n",
              "              style=\"display:none;\">\n",
              "        \n",
              "  <svg xmlns=\"http://www.w3.org/2000/svg\" height=\"24px\"viewBox=\"0 0 24 24\"\n",
              "       width=\"24px\">\n",
              "    <path d=\"M0 0h24v24H0V0z\" fill=\"none\"/>\n",
              "    <path d=\"M18.56 5.44l.94 2.06.94-2.06 2.06-.94-2.06-.94-.94-2.06-.94 2.06-2.06.94zm-11 1L8.5 8.5l.94-2.06 2.06-.94-2.06-.94L8.5 2.5l-.94 2.06-2.06.94zm10 10l.94 2.06.94-2.06 2.06-.94-2.06-.94-.94-2.06-.94 2.06-2.06.94z\"/><path d=\"M17.41 7.96l-1.37-1.37c-.4-.4-.92-.59-1.43-.59-.52 0-1.04.2-1.43.59L10.3 9.45l-7.72 7.72c-.78.78-.78 2.05 0 2.83L4 21.41c.39.39.9.59 1.41.59.51 0 1.02-.2 1.41-.59l7.78-7.78 2.81-2.81c.8-.78.8-2.07 0-2.86zM5.41 20L4 18.59l7.72-7.72 1.47 1.35L5.41 20z\"/>\n",
              "  </svg>\n",
              "      </button>\n",
              "      \n",
              "  <style>\n",
              "    .colab-df-container {\n",
              "      display:flex;\n",
              "      flex-wrap:wrap;\n",
              "      gap: 12px;\n",
              "    }\n",
              "\n",
              "    .colab-df-convert {\n",
              "      background-color: #E8F0FE;\n",
              "      border: none;\n",
              "      border-radius: 50%;\n",
              "      cursor: pointer;\n",
              "      display: none;\n",
              "      fill: #1967D2;\n",
              "      height: 32px;\n",
              "      padding: 0 0 0 0;\n",
              "      width: 32px;\n",
              "    }\n",
              "\n",
              "    .colab-df-convert:hover {\n",
              "      background-color: #E2EBFA;\n",
              "      box-shadow: 0px 1px 2px rgba(60, 64, 67, 0.3), 0px 1px 3px 1px rgba(60, 64, 67, 0.15);\n",
              "      fill: #174EA6;\n",
              "    }\n",
              "\n",
              "    [theme=dark] .colab-df-convert {\n",
              "      background-color: #3B4455;\n",
              "      fill: #D2E3FC;\n",
              "    }\n",
              "\n",
              "    [theme=dark] .colab-df-convert:hover {\n",
              "      background-color: #434B5C;\n",
              "      box-shadow: 0px 1px 3px 1px rgba(0, 0, 0, 0.15);\n",
              "      filter: drop-shadow(0px 1px 2px rgba(0, 0, 0, 0.3));\n",
              "      fill: #FFFFFF;\n",
              "    }\n",
              "  </style>\n",
              "\n",
              "      <script>\n",
              "        const buttonEl =\n",
              "          document.querySelector('#df-daba9948-2325-418f-b573-169e6f5b5a0b button.colab-df-convert');\n",
              "        buttonEl.style.display =\n",
              "          google.colab.kernel.accessAllowed ? 'block' : 'none';\n",
              "\n",
              "        async function convertToInteractive(key) {\n",
              "          const element = document.querySelector('#df-daba9948-2325-418f-b573-169e6f5b5a0b');\n",
              "          const dataTable =\n",
              "            await google.colab.kernel.invokeFunction('convertToInteractive',\n",
              "                                                     [key], {});\n",
              "          if (!dataTable) return;\n",
              "\n",
              "          const docLinkHtml = 'Like what you see? Visit the ' +\n",
              "            '<a target=\"_blank\" href=https://colab.research.google.com/notebooks/data_table.ipynb>data table notebook</a>'\n",
              "            + ' to learn more about interactive tables.';\n",
              "          element.innerHTML = '';\n",
              "          dataTable['output_type'] = 'display_data';\n",
              "          await google.colab.output.renderOutput(dataTable, element);\n",
              "          const docLink = document.createElement('div');\n",
              "          docLink.innerHTML = docLinkHtml;\n",
              "          element.appendChild(docLink);\n",
              "        }\n",
              "      </script>\n",
              "    </div>\n",
              "  </div>\n",
              "  "
            ]
          },
          "metadata": {},
          "execution_count": 4
        }
      ],
      "source": [
        "print(game.shape)\n",
        "game.head()"
      ]
    },
    {
      "cell_type": "code",
      "execution_count": 5,
      "metadata": {
        "colab": {
          "base_uri": "https://localhost:8080/",
          "height": 224
        },
        "id": "AQBIybN7_6yz",
        "outputId": "309bc2f4-783b-40db-d737-6b64ef430d9c"
      },
      "outputs": [
        {
          "output_type": "stream",
          "name": "stdout",
          "text": [
            "(21236, 3)\n"
          ]
        },
        {
          "output_type": "execute_result",
          "data": {
            "text/plain": [
              "   app_id                                        description  \\\n",
              "0   10090  Call of Duty is back, redefining war like you'...   \n",
              "1   13500  Enter the dark underworld of Prince of Persia ...   \n",
              "2   22364                                                NaN   \n",
              "3  113020  Monaco: What's Yours Is Mine is a single playe...   \n",
              "4  226560  Escape Dead Island is a Survival-Mystery adven...   \n",
              "\n",
              "                                                tags  \n",
              "0  Zombies\\nWorld War II\\nFPS\\nMultiplayer\\nActio...  \n",
              "1  Action\\nAdventure\\nParkour\\nThird Person\\nGrea...  \n",
              "2                                             Action  \n",
              "3  Co-op\\nStealth\\nIndie\\nHeist\\nLocal Co-Op\\nStr...  \n",
              "4  Zombies\\nAdventure\\nSurvival\\nAction\\nThird Pe...  "
            ],
            "text/html": [
              "\n",
              "  <div id=\"df-1c47b449-3368-46b4-8a45-cf0d98c8eb80\">\n",
              "    <div class=\"colab-df-container\">\n",
              "      <div>\n",
              "<style scoped>\n",
              "    .dataframe tbody tr th:only-of-type {\n",
              "        vertical-align: middle;\n",
              "    }\n",
              "\n",
              "    .dataframe tbody tr th {\n",
              "        vertical-align: top;\n",
              "    }\n",
              "\n",
              "    .dataframe thead th {\n",
              "        text-align: right;\n",
              "    }\n",
              "</style>\n",
              "<table border=\"1\" class=\"dataframe\">\n",
              "  <thead>\n",
              "    <tr style=\"text-align: right;\">\n",
              "      <th></th>\n",
              "      <th>app_id</th>\n",
              "      <th>description</th>\n",
              "      <th>tags</th>\n",
              "    </tr>\n",
              "  </thead>\n",
              "  <tbody>\n",
              "    <tr>\n",
              "      <th>0</th>\n",
              "      <td>10090</td>\n",
              "      <td>Call of Duty is back, redefining war like you'...</td>\n",
              "      <td>Zombies\\nWorld War II\\nFPS\\nMultiplayer\\nActio...</td>\n",
              "    </tr>\n",
              "    <tr>\n",
              "      <th>1</th>\n",
              "      <td>13500</td>\n",
              "      <td>Enter the dark underworld of Prince of Persia ...</td>\n",
              "      <td>Action\\nAdventure\\nParkour\\nThird Person\\nGrea...</td>\n",
              "    </tr>\n",
              "    <tr>\n",
              "      <th>2</th>\n",
              "      <td>22364</td>\n",
              "      <td>NaN</td>\n",
              "      <td>Action</td>\n",
              "    </tr>\n",
              "    <tr>\n",
              "      <th>3</th>\n",
              "      <td>113020</td>\n",
              "      <td>Monaco: What's Yours Is Mine is a single playe...</td>\n",
              "      <td>Co-op\\nStealth\\nIndie\\nHeist\\nLocal Co-Op\\nStr...</td>\n",
              "    </tr>\n",
              "    <tr>\n",
              "      <th>4</th>\n",
              "      <td>226560</td>\n",
              "      <td>Escape Dead Island is a Survival-Mystery adven...</td>\n",
              "      <td>Zombies\\nAdventure\\nSurvival\\nAction\\nThird Pe...</td>\n",
              "    </tr>\n",
              "  </tbody>\n",
              "</table>\n",
              "</div>\n",
              "      <button class=\"colab-df-convert\" onclick=\"convertToInteractive('df-1c47b449-3368-46b4-8a45-cf0d98c8eb80')\"\n",
              "              title=\"Convert this dataframe to an interactive table.\"\n",
              "              style=\"display:none;\">\n",
              "        \n",
              "  <svg xmlns=\"http://www.w3.org/2000/svg\" height=\"24px\"viewBox=\"0 0 24 24\"\n",
              "       width=\"24px\">\n",
              "    <path d=\"M0 0h24v24H0V0z\" fill=\"none\"/>\n",
              "    <path d=\"M18.56 5.44l.94 2.06.94-2.06 2.06-.94-2.06-.94-.94-2.06-.94 2.06-2.06.94zm-11 1L8.5 8.5l.94-2.06 2.06-.94-2.06-.94L8.5 2.5l-.94 2.06-2.06.94zm10 10l.94 2.06.94-2.06 2.06-.94-2.06-.94-.94-2.06-.94 2.06-2.06.94z\"/><path d=\"M17.41 7.96l-1.37-1.37c-.4-.4-.92-.59-1.43-.59-.52 0-1.04.2-1.43.59L10.3 9.45l-7.72 7.72c-.78.78-.78 2.05 0 2.83L4 21.41c.39.39.9.59 1.41.59.51 0 1.02-.2 1.41-.59l7.78-7.78 2.81-2.81c.8-.78.8-2.07 0-2.86zM5.41 20L4 18.59l7.72-7.72 1.47 1.35L5.41 20z\"/>\n",
              "  </svg>\n",
              "      </button>\n",
              "      \n",
              "  <style>\n",
              "    .colab-df-container {\n",
              "      display:flex;\n",
              "      flex-wrap:wrap;\n",
              "      gap: 12px;\n",
              "    }\n",
              "\n",
              "    .colab-df-convert {\n",
              "      background-color: #E8F0FE;\n",
              "      border: none;\n",
              "      border-radius: 50%;\n",
              "      cursor: pointer;\n",
              "      display: none;\n",
              "      fill: #1967D2;\n",
              "      height: 32px;\n",
              "      padding: 0 0 0 0;\n",
              "      width: 32px;\n",
              "    }\n",
              "\n",
              "    .colab-df-convert:hover {\n",
              "      background-color: #E2EBFA;\n",
              "      box-shadow: 0px 1px 2px rgba(60, 64, 67, 0.3), 0px 1px 3px 1px rgba(60, 64, 67, 0.15);\n",
              "      fill: #174EA6;\n",
              "    }\n",
              "\n",
              "    [theme=dark] .colab-df-convert {\n",
              "      background-color: #3B4455;\n",
              "      fill: #D2E3FC;\n",
              "    }\n",
              "\n",
              "    [theme=dark] .colab-df-convert:hover {\n",
              "      background-color: #434B5C;\n",
              "      box-shadow: 0px 1px 3px 1px rgba(0, 0, 0, 0.15);\n",
              "      filter: drop-shadow(0px 1px 2px rgba(0, 0, 0, 0.3));\n",
              "      fill: #FFFFFF;\n",
              "    }\n",
              "  </style>\n",
              "\n",
              "      <script>\n",
              "        const buttonEl =\n",
              "          document.querySelector('#df-1c47b449-3368-46b4-8a45-cf0d98c8eb80 button.colab-df-convert');\n",
              "        buttonEl.style.display =\n",
              "          google.colab.kernel.accessAllowed ? 'block' : 'none';\n",
              "\n",
              "        async function convertToInteractive(key) {\n",
              "          const element = document.querySelector('#df-1c47b449-3368-46b4-8a45-cf0d98c8eb80');\n",
              "          const dataTable =\n",
              "            await google.colab.kernel.invokeFunction('convertToInteractive',\n",
              "                                                     [key], {});\n",
              "          if (!dataTable) return;\n",
              "\n",
              "          const docLinkHtml = 'Like what you see? Visit the ' +\n",
              "            '<a target=\"_blank\" href=https://colab.research.google.com/notebooks/data_table.ipynb>data table notebook</a>'\n",
              "            + ' to learn more about interactive tables.';\n",
              "          element.innerHTML = '';\n",
              "          dataTable['output_type'] = 'display_data';\n",
              "          await google.colab.output.renderOutput(dataTable, element);\n",
              "          const docLink = document.createElement('div');\n",
              "          docLink.innerHTML = docLinkHtml;\n",
              "          element.appendChild(docLink);\n",
              "        }\n",
              "      </script>\n",
              "    </div>\n",
              "  </div>\n",
              "  "
            ]
          },
          "metadata": {},
          "execution_count": 5
        }
      ],
      "source": [
        "print(gen.shape)\n",
        "gen.head()"
      ]
    },
    {
      "cell_type": "code",
      "execution_count": 6,
      "metadata": {
        "colab": {
          "base_uri": "https://localhost:8080/"
        },
        "id": "oFZ9K1TbBw98",
        "outputId": "8277703e-7072-4832-d7a1-6f3881ad42ed"
      },
      "outputs": [
        {
          "output_type": "stream",
          "name": "stdout",
          "text": [
            "<class 'pandas.core.frame.DataFrame'>\n",
            "Int64Index: 21236 entries, 0 to 21235\n",
            "Data columns (total 15 columns):\n",
            " #   Column          Non-Null Count  Dtype  \n",
            "---  ------          --------------  -----  \n",
            " 0   app_id          21236 non-null  int64  \n",
            " 1   title           21236 non-null  object \n",
            " 2   date_release    21236 non-null  object \n",
            " 3   win             21236 non-null  bool   \n",
            " 4   mac             21236 non-null  bool   \n",
            " 5   linux           21236 non-null  bool   \n",
            " 6   rating          21236 non-null  object \n",
            " 7   positive_ratio  21236 non-null  int64  \n",
            " 8   user_reviews    21236 non-null  int64  \n",
            " 9   price_final     21236 non-null  float64\n",
            " 10  price_original  21236 non-null  float64\n",
            " 11  discount        21236 non-null  float64\n",
            " 12  steam_deck      21236 non-null  bool   \n",
            " 13  description     15907 non-null  object \n",
            " 14  tags            21136 non-null  object \n",
            "dtypes: bool(4), float64(3), int64(3), object(5)\n",
            "memory usage: 2.0+ MB\n"
          ]
        }
      ],
      "source": [
        "#Merging both datasets as one \n",
        "df = game.merge(gen,on=\"app_id\")\n",
        "df.info()"
      ]
    },
    {
      "cell_type": "code",
      "execution_count": 7,
      "metadata": {
        "colab": {
          "base_uri": "https://localhost:8080/",
          "height": 206
        },
        "id": "5lsSGUZ5GH-_",
        "outputId": "d6ca4982-95e6-4a58-bab5-35e49ac69481"
      },
      "outputs": [
        {
          "output_type": "execute_result",
          "data": {
            "text/plain": [
              "   app_id                              title   win    mac  linux  \\\n",
              "0   10090         Call of Duty: World at War  True  False  False   \n",
              "1   13500  Prince of Persia: Warrior Within™  True  False  False   \n",
              "2   22364            BRINK: Agents of Change  True  False  False   \n",
              "3  113020       Monaco: What's Yours Is Mine  True   True   True   \n",
              "4  226560                 Escape Dead Island  True  False  False   \n",
              "\n",
              "                                         description  \\\n",
              "0  Call of Duty is back, redefining war like you'...   \n",
              "1  Enter the dark underworld of Prince of Persia ...   \n",
              "2                                                NaN   \n",
              "3  Monaco: What's Yours Is Mine is a single playe...   \n",
              "4  Escape Dead Island is a Survival-Mystery adven...   \n",
              "\n",
              "                                                tags  \n",
              "0  Zombies\\nWorld War II\\nFPS\\nMultiplayer\\nActio...  \n",
              "1  Action\\nAdventure\\nParkour\\nThird Person\\nGrea...  \n",
              "2                                             Action  \n",
              "3  Co-op\\nStealth\\nIndie\\nHeist\\nLocal Co-Op\\nStr...  \n",
              "4  Zombies\\nAdventure\\nSurvival\\nAction\\nThird Pe...  "
            ],
            "text/html": [
              "\n",
              "  <div id=\"df-a9d49b83-d4e7-4b9f-aa15-036e7bb5cfdf\">\n",
              "    <div class=\"colab-df-container\">\n",
              "      <div>\n",
              "<style scoped>\n",
              "    .dataframe tbody tr th:only-of-type {\n",
              "        vertical-align: middle;\n",
              "    }\n",
              "\n",
              "    .dataframe tbody tr th {\n",
              "        vertical-align: top;\n",
              "    }\n",
              "\n",
              "    .dataframe thead th {\n",
              "        text-align: right;\n",
              "    }\n",
              "</style>\n",
              "<table border=\"1\" class=\"dataframe\">\n",
              "  <thead>\n",
              "    <tr style=\"text-align: right;\">\n",
              "      <th></th>\n",
              "      <th>app_id</th>\n",
              "      <th>title</th>\n",
              "      <th>win</th>\n",
              "      <th>mac</th>\n",
              "      <th>linux</th>\n",
              "      <th>description</th>\n",
              "      <th>tags</th>\n",
              "    </tr>\n",
              "  </thead>\n",
              "  <tbody>\n",
              "    <tr>\n",
              "      <th>0</th>\n",
              "      <td>10090</td>\n",
              "      <td>Call of Duty: World at War</td>\n",
              "      <td>True</td>\n",
              "      <td>False</td>\n",
              "      <td>False</td>\n",
              "      <td>Call of Duty is back, redefining war like you'...</td>\n",
              "      <td>Zombies\\nWorld War II\\nFPS\\nMultiplayer\\nActio...</td>\n",
              "    </tr>\n",
              "    <tr>\n",
              "      <th>1</th>\n",
              "      <td>13500</td>\n",
              "      <td>Prince of Persia: Warrior Within™</td>\n",
              "      <td>True</td>\n",
              "      <td>False</td>\n",
              "      <td>False</td>\n",
              "      <td>Enter the dark underworld of Prince of Persia ...</td>\n",
              "      <td>Action\\nAdventure\\nParkour\\nThird Person\\nGrea...</td>\n",
              "    </tr>\n",
              "    <tr>\n",
              "      <th>2</th>\n",
              "      <td>22364</td>\n",
              "      <td>BRINK: Agents of Change</td>\n",
              "      <td>True</td>\n",
              "      <td>False</td>\n",
              "      <td>False</td>\n",
              "      <td>NaN</td>\n",
              "      <td>Action</td>\n",
              "    </tr>\n",
              "    <tr>\n",
              "      <th>3</th>\n",
              "      <td>113020</td>\n",
              "      <td>Monaco: What's Yours Is Mine</td>\n",
              "      <td>True</td>\n",
              "      <td>True</td>\n",
              "      <td>True</td>\n",
              "      <td>Monaco: What's Yours Is Mine is a single playe...</td>\n",
              "      <td>Co-op\\nStealth\\nIndie\\nHeist\\nLocal Co-Op\\nStr...</td>\n",
              "    </tr>\n",
              "    <tr>\n",
              "      <th>4</th>\n",
              "      <td>226560</td>\n",
              "      <td>Escape Dead Island</td>\n",
              "      <td>True</td>\n",
              "      <td>False</td>\n",
              "      <td>False</td>\n",
              "      <td>Escape Dead Island is a Survival-Mystery adven...</td>\n",
              "      <td>Zombies\\nAdventure\\nSurvival\\nAction\\nThird Pe...</td>\n",
              "    </tr>\n",
              "  </tbody>\n",
              "</table>\n",
              "</div>\n",
              "      <button class=\"colab-df-convert\" onclick=\"convertToInteractive('df-a9d49b83-d4e7-4b9f-aa15-036e7bb5cfdf')\"\n",
              "              title=\"Convert this dataframe to an interactive table.\"\n",
              "              style=\"display:none;\">\n",
              "        \n",
              "  <svg xmlns=\"http://www.w3.org/2000/svg\" height=\"24px\"viewBox=\"0 0 24 24\"\n",
              "       width=\"24px\">\n",
              "    <path d=\"M0 0h24v24H0V0z\" fill=\"none\"/>\n",
              "    <path d=\"M18.56 5.44l.94 2.06.94-2.06 2.06-.94-2.06-.94-.94-2.06-.94 2.06-2.06.94zm-11 1L8.5 8.5l.94-2.06 2.06-.94-2.06-.94L8.5 2.5l-.94 2.06-2.06.94zm10 10l.94 2.06.94-2.06 2.06-.94-2.06-.94-.94-2.06-.94 2.06-2.06.94z\"/><path d=\"M17.41 7.96l-1.37-1.37c-.4-.4-.92-.59-1.43-.59-.52 0-1.04.2-1.43.59L10.3 9.45l-7.72 7.72c-.78.78-.78 2.05 0 2.83L4 21.41c.39.39.9.59 1.41.59.51 0 1.02-.2 1.41-.59l7.78-7.78 2.81-2.81c.8-.78.8-2.07 0-2.86zM5.41 20L4 18.59l7.72-7.72 1.47 1.35L5.41 20z\"/>\n",
              "  </svg>\n",
              "      </button>\n",
              "      \n",
              "  <style>\n",
              "    .colab-df-container {\n",
              "      display:flex;\n",
              "      flex-wrap:wrap;\n",
              "      gap: 12px;\n",
              "    }\n",
              "\n",
              "    .colab-df-convert {\n",
              "      background-color: #E8F0FE;\n",
              "      border: none;\n",
              "      border-radius: 50%;\n",
              "      cursor: pointer;\n",
              "      display: none;\n",
              "      fill: #1967D2;\n",
              "      height: 32px;\n",
              "      padding: 0 0 0 0;\n",
              "      width: 32px;\n",
              "    }\n",
              "\n",
              "    .colab-df-convert:hover {\n",
              "      background-color: #E2EBFA;\n",
              "      box-shadow: 0px 1px 2px rgba(60, 64, 67, 0.3), 0px 1px 3px 1px rgba(60, 64, 67, 0.15);\n",
              "      fill: #174EA6;\n",
              "    }\n",
              "\n",
              "    [theme=dark] .colab-df-convert {\n",
              "      background-color: #3B4455;\n",
              "      fill: #D2E3FC;\n",
              "    }\n",
              "\n",
              "    [theme=dark] .colab-df-convert:hover {\n",
              "      background-color: #434B5C;\n",
              "      box-shadow: 0px 1px 3px 1px rgba(0, 0, 0, 0.15);\n",
              "      filter: drop-shadow(0px 1px 2px rgba(0, 0, 0, 0.3));\n",
              "      fill: #FFFFFF;\n",
              "    }\n",
              "  </style>\n",
              "\n",
              "      <script>\n",
              "        const buttonEl =\n",
              "          document.querySelector('#df-a9d49b83-d4e7-4b9f-aa15-036e7bb5cfdf button.colab-df-convert');\n",
              "        buttonEl.style.display =\n",
              "          google.colab.kernel.accessAllowed ? 'block' : 'none';\n",
              "\n",
              "        async function convertToInteractive(key) {\n",
              "          const element = document.querySelector('#df-a9d49b83-d4e7-4b9f-aa15-036e7bb5cfdf');\n",
              "          const dataTable =\n",
              "            await google.colab.kernel.invokeFunction('convertToInteractive',\n",
              "                                                     [key], {});\n",
              "          if (!dataTable) return;\n",
              "\n",
              "          const docLinkHtml = 'Like what you see? Visit the ' +\n",
              "            '<a target=\"_blank\" href=https://colab.research.google.com/notebooks/data_table.ipynb>data table notebook</a>'\n",
              "            + ' to learn more about interactive tables.';\n",
              "          element.innerHTML = '';\n",
              "          dataTable['output_type'] = 'display_data';\n",
              "          await google.colab.output.renderOutput(dataTable, element);\n",
              "          const docLink = document.createElement('div');\n",
              "          docLink.innerHTML = docLinkHtml;\n",
              "          element.appendChild(docLink);\n",
              "        }\n",
              "      </script>\n",
              "    </div>\n",
              "  </div>\n",
              "  "
            ]
          },
          "metadata": {},
          "execution_count": 7
        }
      ],
      "source": [
        "df = df[[\"app_id\",'title','win','mac','linux','description','tags']]\n",
        "df.head()"
      ]
    },
    {
      "cell_type": "code",
      "execution_count": 8,
      "metadata": {
        "colab": {
          "base_uri": "https://localhost:8080/"
        },
        "id": "bRFxqkf4H8qH",
        "outputId": "7591eecf-6e50-4d50-c7a9-a4b63bcfe42e"
      },
      "outputs": [
        {
          "output_type": "stream",
          "name": "stdout",
          "text": [
            "<class 'pandas.core.frame.DataFrame'>\n",
            "Int64Index: 21236 entries, 0 to 21235\n",
            "Data columns (total 7 columns):\n",
            " #   Column       Non-Null Count  Dtype \n",
            "---  ------       --------------  ----- \n",
            " 0   app_id       21236 non-null  int64 \n",
            " 1   title        21236 non-null  object\n",
            " 2   win          21236 non-null  bool  \n",
            " 3   mac          21236 non-null  bool  \n",
            " 4   linux        21236 non-null  bool  \n",
            " 5   description  15907 non-null  object\n",
            " 6   tags         21136 non-null  object\n",
            "dtypes: bool(3), int64(1), object(3)\n",
            "memory usage: 891.7+ KB\n"
          ]
        }
      ],
      "source": [
        "df.info()"
      ]
    },
    {
      "cell_type": "code",
      "source": [
        "df.dropna(inplace=True)"
      ],
      "metadata": {
        "id": "kDP5kwmUf0Pz"
      },
      "execution_count": 9,
      "outputs": []
    },
    {
      "cell_type": "code",
      "execution_count": 10,
      "metadata": {
        "id": "9A-i7HNiGsoI"
      },
      "outputs": [],
      "source": [
        "df.isna().sum()\n",
        "df = df.reset_index() #Reset index as after drop there will be gap between dataframe"
      ]
    },
    {
      "cell_type": "code",
      "execution_count": 11,
      "metadata": {
        "colab": {
          "base_uri": "https://localhost:8080/"
        },
        "id": "S9GCeokFKPzX",
        "outputId": "7a3a50db-18d6-4398-a3f5-87c4f86deabc"
      },
      "outputs": [
        {
          "output_type": "execute_result",
          "data": {
            "text/plain": [
              "index          0\n",
              "app_id         0\n",
              "title          0\n",
              "win            0\n",
              "mac            0\n",
              "linux          0\n",
              "description    0\n",
              "tags           0\n",
              "dtype: int64"
            ]
          },
          "metadata": {},
          "execution_count": 11
        }
      ],
      "source": [
        "df.isnull().sum()"
      ]
    },
    {
      "cell_type": "code",
      "execution_count": 12,
      "metadata": {
        "colab": {
          "base_uri": "https://localhost:8080/"
        },
        "id": "7v7fYkSuKSy7",
        "outputId": "f0d65e5e-2517-456d-93af-5fd42acbf26d"
      },
      "outputs": [
        {
          "output_type": "execute_result",
          "data": {
            "text/plain": [
              "0"
            ]
          },
          "metadata": {},
          "execution_count": 12
        }
      ],
      "source": [
        "df.duplicated().sum()"
      ]
    },
    {
      "cell_type": "code",
      "execution_count": 13,
      "metadata": {
        "colab": {
          "base_uri": "https://localhost:8080/"
        },
        "id": "61G_bwsnolE6",
        "outputId": "9243efa2-a963-4c64-fb12-eac6440de2ea"
      },
      "outputs": [
        {
          "output_type": "execute_result",
          "data": {
            "text/plain": [
              "0        Call of Duty is back, redefining war like you'...\n",
              "1        Enter the dark underworld of Prince of Persia ...\n",
              "2        Monaco: What's Yours Is Mine is a single playe...\n",
              "3        Escape Dead Island is a Survival-Mystery adven...\n",
              "4        Dungeon of the Endless is a Rogue-Like Dungeon...\n",
              "                               ...                        \n",
              "15901    Dark Past is based on psychological horror by ...\n",
              "15902    Remember the times at the movies? Maybe you've...\n",
              "15903    Roguelite bullet-hell meets sexy anime in Beau...\n",
              "15904    Create and customize your own campground in th...\n",
              "15905    經典商業模擬遊戲《創業王》讓你一圓當老闆的夢想！選地建廠，佈置廠房、僱用員工，打造夢幻生產線...\n",
              "Name: description, Length: 15906, dtype: object"
            ]
          },
          "metadata": {},
          "execution_count": 13
        }
      ],
      "source": [
        "df['description']"
      ]
    },
    {
      "cell_type": "code",
      "execution_count": 14,
      "metadata": {
        "id": "GidX18P-muZk"
      },
      "outputs": [],
      "source": [
        "df['desc'] = df['description'].apply(lambda x: x.split())\n",
        "df['genre'] = df['tags'].apply(lambda x: x.split(\"\\n\"))"
      ]
    },
    {
      "cell_type": "code",
      "execution_count": 15,
      "metadata": {
        "colab": {
          "base_uri": "https://localhost:8080/",
          "height": 206
        },
        "id": "YI6h87Mcp8tr",
        "outputId": "7870bab6-6211-4f6c-9753-e1fb03f3280b"
      },
      "outputs": [
        {
          "output_type": "execute_result",
          "data": {
            "text/plain": [
              "                               title   win    mac  linux  \\\n",
              "0         Call of Duty: World at War  True  False  False   \n",
              "1  Prince of Persia: Warrior Within™  True  False  False   \n",
              "2       Monaco: What's Yours Is Mine  True   True   True   \n",
              "3                 Escape Dead Island  True  False  False   \n",
              "4            Dungeon of the ENDLESS™  True   True  False   \n",
              "\n",
              "                                                desc  \\\n",
              "0  [Call, of, Duty, is, back,, redefining, war, l...   \n",
              "1  [Enter, the, dark, underworld, of, Prince, of,...   \n",
              "2  [Monaco:, What's, Yours, Is, Mine, is, a, sing...   \n",
              "3  [Escape, Dead, Island, is, a, Survival-Mystery...   \n",
              "4  [Dungeon, of, the, Endless, is, a, Rogue-Like,...   \n",
              "\n",
              "                                               genre  \n",
              "0  [Zombies, World War II, FPS, Multiplayer, Acti...  \n",
              "1  [Action, Adventure, Parkour, Third Person, Gre...  \n",
              "2  [Co-op, Stealth, Indie, Heist, Local Co-Op, St...  \n",
              "3  [Zombies, Adventure, Survival, Action, Third P...  \n",
              "4  [Roguelike, Strategy, Tower Defense, Pixel Gra...  "
            ],
            "text/html": [
              "\n",
              "  <div id=\"df-0a974eb6-858c-4b82-94e1-5eddd41ab44f\">\n",
              "    <div class=\"colab-df-container\">\n",
              "      <div>\n",
              "<style scoped>\n",
              "    .dataframe tbody tr th:only-of-type {\n",
              "        vertical-align: middle;\n",
              "    }\n",
              "\n",
              "    .dataframe tbody tr th {\n",
              "        vertical-align: top;\n",
              "    }\n",
              "\n",
              "    .dataframe thead th {\n",
              "        text-align: right;\n",
              "    }\n",
              "</style>\n",
              "<table border=\"1\" class=\"dataframe\">\n",
              "  <thead>\n",
              "    <tr style=\"text-align: right;\">\n",
              "      <th></th>\n",
              "      <th>title</th>\n",
              "      <th>win</th>\n",
              "      <th>mac</th>\n",
              "      <th>linux</th>\n",
              "      <th>desc</th>\n",
              "      <th>genre</th>\n",
              "    </tr>\n",
              "  </thead>\n",
              "  <tbody>\n",
              "    <tr>\n",
              "      <th>0</th>\n",
              "      <td>Call of Duty: World at War</td>\n",
              "      <td>True</td>\n",
              "      <td>False</td>\n",
              "      <td>False</td>\n",
              "      <td>[Call, of, Duty, is, back,, redefining, war, l...</td>\n",
              "      <td>[Zombies, World War II, FPS, Multiplayer, Acti...</td>\n",
              "    </tr>\n",
              "    <tr>\n",
              "      <th>1</th>\n",
              "      <td>Prince of Persia: Warrior Within™</td>\n",
              "      <td>True</td>\n",
              "      <td>False</td>\n",
              "      <td>False</td>\n",
              "      <td>[Enter, the, dark, underworld, of, Prince, of,...</td>\n",
              "      <td>[Action, Adventure, Parkour, Third Person, Gre...</td>\n",
              "    </tr>\n",
              "    <tr>\n",
              "      <th>2</th>\n",
              "      <td>Monaco: What's Yours Is Mine</td>\n",
              "      <td>True</td>\n",
              "      <td>True</td>\n",
              "      <td>True</td>\n",
              "      <td>[Monaco:, What's, Yours, Is, Mine, is, a, sing...</td>\n",
              "      <td>[Co-op, Stealth, Indie, Heist, Local Co-Op, St...</td>\n",
              "    </tr>\n",
              "    <tr>\n",
              "      <th>3</th>\n",
              "      <td>Escape Dead Island</td>\n",
              "      <td>True</td>\n",
              "      <td>False</td>\n",
              "      <td>False</td>\n",
              "      <td>[Escape, Dead, Island, is, a, Survival-Mystery...</td>\n",
              "      <td>[Zombies, Adventure, Survival, Action, Third P...</td>\n",
              "    </tr>\n",
              "    <tr>\n",
              "      <th>4</th>\n",
              "      <td>Dungeon of the ENDLESS™</td>\n",
              "      <td>True</td>\n",
              "      <td>True</td>\n",
              "      <td>False</td>\n",
              "      <td>[Dungeon, of, the, Endless, is, a, Rogue-Like,...</td>\n",
              "      <td>[Roguelike, Strategy, Tower Defense, Pixel Gra...</td>\n",
              "    </tr>\n",
              "  </tbody>\n",
              "</table>\n",
              "</div>\n",
              "      <button class=\"colab-df-convert\" onclick=\"convertToInteractive('df-0a974eb6-858c-4b82-94e1-5eddd41ab44f')\"\n",
              "              title=\"Convert this dataframe to an interactive table.\"\n",
              "              style=\"display:none;\">\n",
              "        \n",
              "  <svg xmlns=\"http://www.w3.org/2000/svg\" height=\"24px\"viewBox=\"0 0 24 24\"\n",
              "       width=\"24px\">\n",
              "    <path d=\"M0 0h24v24H0V0z\" fill=\"none\"/>\n",
              "    <path d=\"M18.56 5.44l.94 2.06.94-2.06 2.06-.94-2.06-.94-.94-2.06-.94 2.06-2.06.94zm-11 1L8.5 8.5l.94-2.06 2.06-.94-2.06-.94L8.5 2.5l-.94 2.06-2.06.94zm10 10l.94 2.06.94-2.06 2.06-.94-2.06-.94-.94-2.06-.94 2.06-2.06.94z\"/><path d=\"M17.41 7.96l-1.37-1.37c-.4-.4-.92-.59-1.43-.59-.52 0-1.04.2-1.43.59L10.3 9.45l-7.72 7.72c-.78.78-.78 2.05 0 2.83L4 21.41c.39.39.9.59 1.41.59.51 0 1.02-.2 1.41-.59l7.78-7.78 2.81-2.81c.8-.78.8-2.07 0-2.86zM5.41 20L4 18.59l7.72-7.72 1.47 1.35L5.41 20z\"/>\n",
              "  </svg>\n",
              "      </button>\n",
              "      \n",
              "  <style>\n",
              "    .colab-df-container {\n",
              "      display:flex;\n",
              "      flex-wrap:wrap;\n",
              "      gap: 12px;\n",
              "    }\n",
              "\n",
              "    .colab-df-convert {\n",
              "      background-color: #E8F0FE;\n",
              "      border: none;\n",
              "      border-radius: 50%;\n",
              "      cursor: pointer;\n",
              "      display: none;\n",
              "      fill: #1967D2;\n",
              "      height: 32px;\n",
              "      padding: 0 0 0 0;\n",
              "      width: 32px;\n",
              "    }\n",
              "\n",
              "    .colab-df-convert:hover {\n",
              "      background-color: #E2EBFA;\n",
              "      box-shadow: 0px 1px 2px rgba(60, 64, 67, 0.3), 0px 1px 3px 1px rgba(60, 64, 67, 0.15);\n",
              "      fill: #174EA6;\n",
              "    }\n",
              "\n",
              "    [theme=dark] .colab-df-convert {\n",
              "      background-color: #3B4455;\n",
              "      fill: #D2E3FC;\n",
              "    }\n",
              "\n",
              "    [theme=dark] .colab-df-convert:hover {\n",
              "      background-color: #434B5C;\n",
              "      box-shadow: 0px 1px 3px 1px rgba(0, 0, 0, 0.15);\n",
              "      filter: drop-shadow(0px 1px 2px rgba(0, 0, 0, 0.3));\n",
              "      fill: #FFFFFF;\n",
              "    }\n",
              "  </style>\n",
              "\n",
              "      <script>\n",
              "        const buttonEl =\n",
              "          document.querySelector('#df-0a974eb6-858c-4b82-94e1-5eddd41ab44f button.colab-df-convert');\n",
              "        buttonEl.style.display =\n",
              "          google.colab.kernel.accessAllowed ? 'block' : 'none';\n",
              "\n",
              "        async function convertToInteractive(key) {\n",
              "          const element = document.querySelector('#df-0a974eb6-858c-4b82-94e1-5eddd41ab44f');\n",
              "          const dataTable =\n",
              "            await google.colab.kernel.invokeFunction('convertToInteractive',\n",
              "                                                     [key], {});\n",
              "          if (!dataTable) return;\n",
              "\n",
              "          const docLinkHtml = 'Like what you see? Visit the ' +\n",
              "            '<a target=\"_blank\" href=https://colab.research.google.com/notebooks/data_table.ipynb>data table notebook</a>'\n",
              "            + ' to learn more about interactive tables.';\n",
              "          element.innerHTML = '';\n",
              "          dataTable['output_type'] = 'display_data';\n",
              "          await google.colab.output.renderOutput(dataTable, element);\n",
              "          const docLink = document.createElement('div');\n",
              "          docLink.innerHTML = docLinkHtml;\n",
              "          element.appendChild(docLink);\n",
              "        }\n",
              "      </script>\n",
              "    </div>\n",
              "  </div>\n",
              "  "
            ]
          },
          "metadata": {},
          "execution_count": 15
        }
      ],
      "source": [
        "df = df[['title','win','mac','linux','desc','genre']]\n",
        "df.head()"
      ]
    },
    {
      "cell_type": "code",
      "execution_count": 16,
      "metadata": {
        "colab": {
          "base_uri": "https://localhost:8080/",
          "height": 206
        },
        "id": "jDGk4OOmMCTg",
        "outputId": "6d535de5-5120-4cd3-e5c5-b376e39618fc"
      },
      "outputs": [
        {
          "output_type": "execute_result",
          "data": {
            "text/plain": [
              "                               title   win    mac  linux  \\\n",
              "0         Call of Duty: World at War  True  False  False   \n",
              "1  Prince of Persia: Warrior Within™  True  False  False   \n",
              "2       Monaco: What's Yours Is Mine  True   True   True   \n",
              "3                 Escape Dead Island  True  False  False   \n",
              "4            Dungeon of the ENDLESS™  True   True  False   \n",
              "\n",
              "                                                desc  \\\n",
              "0  [Call, of, Duty, is, back,, redefining, war, l...   \n",
              "1  [Enter, the, dark, underworld, of, Prince, of,...   \n",
              "2  [Monaco:, What's, Yours, Is, Mine, is, a, sing...   \n",
              "3  [Escape, Dead, Island, is, a, Survival-Mystery...   \n",
              "4  [Dungeon, of, the, Endless, is, a, Rogue-Like,...   \n",
              "\n",
              "                                               genre  \n",
              "0  [Zombies, WorldWarII, FPS, Multiplayer, Action...  \n",
              "1  [Action, Adventure, Parkour, ThirdPerson, Grea...  \n",
              "2  [Co-op, Stealth, Indie, Heist, LocalCo-Op, Str...  \n",
              "3  [Zombies, Adventure, Survival, Action, ThirdPe...  \n",
              "4  [Roguelike, Strategy, TowerDefense, PixelGraph...  "
            ],
            "text/html": [
              "\n",
              "  <div id=\"df-dadb26c6-c2d0-4c65-926b-5429c3035ab0\">\n",
              "    <div class=\"colab-df-container\">\n",
              "      <div>\n",
              "<style scoped>\n",
              "    .dataframe tbody tr th:only-of-type {\n",
              "        vertical-align: middle;\n",
              "    }\n",
              "\n",
              "    .dataframe tbody tr th {\n",
              "        vertical-align: top;\n",
              "    }\n",
              "\n",
              "    .dataframe thead th {\n",
              "        text-align: right;\n",
              "    }\n",
              "</style>\n",
              "<table border=\"1\" class=\"dataframe\">\n",
              "  <thead>\n",
              "    <tr style=\"text-align: right;\">\n",
              "      <th></th>\n",
              "      <th>title</th>\n",
              "      <th>win</th>\n",
              "      <th>mac</th>\n",
              "      <th>linux</th>\n",
              "      <th>desc</th>\n",
              "      <th>genre</th>\n",
              "    </tr>\n",
              "  </thead>\n",
              "  <tbody>\n",
              "    <tr>\n",
              "      <th>0</th>\n",
              "      <td>Call of Duty: World at War</td>\n",
              "      <td>True</td>\n",
              "      <td>False</td>\n",
              "      <td>False</td>\n",
              "      <td>[Call, of, Duty, is, back,, redefining, war, l...</td>\n",
              "      <td>[Zombies, WorldWarII, FPS, Multiplayer, Action...</td>\n",
              "    </tr>\n",
              "    <tr>\n",
              "      <th>1</th>\n",
              "      <td>Prince of Persia: Warrior Within™</td>\n",
              "      <td>True</td>\n",
              "      <td>False</td>\n",
              "      <td>False</td>\n",
              "      <td>[Enter, the, dark, underworld, of, Prince, of,...</td>\n",
              "      <td>[Action, Adventure, Parkour, ThirdPerson, Grea...</td>\n",
              "    </tr>\n",
              "    <tr>\n",
              "      <th>2</th>\n",
              "      <td>Monaco: What's Yours Is Mine</td>\n",
              "      <td>True</td>\n",
              "      <td>True</td>\n",
              "      <td>True</td>\n",
              "      <td>[Monaco:, What's, Yours, Is, Mine, is, a, sing...</td>\n",
              "      <td>[Co-op, Stealth, Indie, Heist, LocalCo-Op, Str...</td>\n",
              "    </tr>\n",
              "    <tr>\n",
              "      <th>3</th>\n",
              "      <td>Escape Dead Island</td>\n",
              "      <td>True</td>\n",
              "      <td>False</td>\n",
              "      <td>False</td>\n",
              "      <td>[Escape, Dead, Island, is, a, Survival-Mystery...</td>\n",
              "      <td>[Zombies, Adventure, Survival, Action, ThirdPe...</td>\n",
              "    </tr>\n",
              "    <tr>\n",
              "      <th>4</th>\n",
              "      <td>Dungeon of the ENDLESS™</td>\n",
              "      <td>True</td>\n",
              "      <td>True</td>\n",
              "      <td>False</td>\n",
              "      <td>[Dungeon, of, the, Endless, is, a, Rogue-Like,...</td>\n",
              "      <td>[Roguelike, Strategy, TowerDefense, PixelGraph...</td>\n",
              "    </tr>\n",
              "  </tbody>\n",
              "</table>\n",
              "</div>\n",
              "      <button class=\"colab-df-convert\" onclick=\"convertToInteractive('df-dadb26c6-c2d0-4c65-926b-5429c3035ab0')\"\n",
              "              title=\"Convert this dataframe to an interactive table.\"\n",
              "              style=\"display:none;\">\n",
              "        \n",
              "  <svg xmlns=\"http://www.w3.org/2000/svg\" height=\"24px\"viewBox=\"0 0 24 24\"\n",
              "       width=\"24px\">\n",
              "    <path d=\"M0 0h24v24H0V0z\" fill=\"none\"/>\n",
              "    <path d=\"M18.56 5.44l.94 2.06.94-2.06 2.06-.94-2.06-.94-.94-2.06-.94 2.06-2.06.94zm-11 1L8.5 8.5l.94-2.06 2.06-.94-2.06-.94L8.5 2.5l-.94 2.06-2.06.94zm10 10l.94 2.06.94-2.06 2.06-.94-2.06-.94-.94-2.06-.94 2.06-2.06.94z\"/><path d=\"M17.41 7.96l-1.37-1.37c-.4-.4-.92-.59-1.43-.59-.52 0-1.04.2-1.43.59L10.3 9.45l-7.72 7.72c-.78.78-.78 2.05 0 2.83L4 21.41c.39.39.9.59 1.41.59.51 0 1.02-.2 1.41-.59l7.78-7.78 2.81-2.81c.8-.78.8-2.07 0-2.86zM5.41 20L4 18.59l7.72-7.72 1.47 1.35L5.41 20z\"/>\n",
              "  </svg>\n",
              "      </button>\n",
              "      \n",
              "  <style>\n",
              "    .colab-df-container {\n",
              "      display:flex;\n",
              "      flex-wrap:wrap;\n",
              "      gap: 12px;\n",
              "    }\n",
              "\n",
              "    .colab-df-convert {\n",
              "      background-color: #E8F0FE;\n",
              "      border: none;\n",
              "      border-radius: 50%;\n",
              "      cursor: pointer;\n",
              "      display: none;\n",
              "      fill: #1967D2;\n",
              "      height: 32px;\n",
              "      padding: 0 0 0 0;\n",
              "      width: 32px;\n",
              "    }\n",
              "\n",
              "    .colab-df-convert:hover {\n",
              "      background-color: #E2EBFA;\n",
              "      box-shadow: 0px 1px 2px rgba(60, 64, 67, 0.3), 0px 1px 3px 1px rgba(60, 64, 67, 0.15);\n",
              "      fill: #174EA6;\n",
              "    }\n",
              "\n",
              "    [theme=dark] .colab-df-convert {\n",
              "      background-color: #3B4455;\n",
              "      fill: #D2E3FC;\n",
              "    }\n",
              "\n",
              "    [theme=dark] .colab-df-convert:hover {\n",
              "      background-color: #434B5C;\n",
              "      box-shadow: 0px 1px 3px 1px rgba(0, 0, 0, 0.15);\n",
              "      filter: drop-shadow(0px 1px 2px rgba(0, 0, 0, 0.3));\n",
              "      fill: #FFFFFF;\n",
              "    }\n",
              "  </style>\n",
              "\n",
              "      <script>\n",
              "        const buttonEl =\n",
              "          document.querySelector('#df-dadb26c6-c2d0-4c65-926b-5429c3035ab0 button.colab-df-convert');\n",
              "        buttonEl.style.display =\n",
              "          google.colab.kernel.accessAllowed ? 'block' : 'none';\n",
              "\n",
              "        async function convertToInteractive(key) {\n",
              "          const element = document.querySelector('#df-dadb26c6-c2d0-4c65-926b-5429c3035ab0');\n",
              "          const dataTable =\n",
              "            await google.colab.kernel.invokeFunction('convertToInteractive',\n",
              "                                                     [key], {});\n",
              "          if (!dataTable) return;\n",
              "\n",
              "          const docLinkHtml = 'Like what you see? Visit the ' +\n",
              "            '<a target=\"_blank\" href=https://colab.research.google.com/notebooks/data_table.ipynb>data table notebook</a>'\n",
              "            + ' to learn more about interactive tables.';\n",
              "          element.innerHTML = '';\n",
              "          dataTable['output_type'] = 'display_data';\n",
              "          await google.colab.output.renderOutput(dataTable, element);\n",
              "          const docLink = document.createElement('div');\n",
              "          docLink.innerHTML = docLinkHtml;\n",
              "          element.appendChild(docLink);\n",
              "        }\n",
              "      </script>\n",
              "    </div>\n",
              "  </div>\n",
              "  "
            ]
          },
          "metadata": {},
          "execution_count": 16
        }
      ],
      "source": [
        "# Replacing Space betweem words\n",
        "df[\"desc\"] = df['desc'].apply(lambda x:[i.replace(\" \",\"\") for i in x])\n",
        "df[\"genre\"] = df['genre'].apply(lambda x:[i.replace(\" \",\"\") for i in x])\n",
        "df.head()"
      ]
    },
    {
      "cell_type": "code",
      "execution_count": 17,
      "metadata": {
        "colab": {
          "base_uri": "https://localhost:8080/"
        },
        "id": "jRFKtohRSN67",
        "outputId": "18c9ff75-ea73-4af2-aac0-521c47ce5369"
      },
      "outputs": [
        {
          "output_type": "execute_result",
          "data": {
            "text/plain": [
              "0        [Call, of, Duty, is, back,, redefining, war, l...\n",
              "1        [Enter, the, dark, underworld, of, Prince, of,...\n",
              "2        [Monaco:, What's, Yours, Is, Mine, is, a, sing...\n",
              "3        [Escape, Dead, Island, is, a, Survival-Mystery...\n",
              "4        [Dungeon, of, the, Endless, is, a, Rogue-Like,...\n",
              "                               ...                        \n",
              "15901    [Dark, Past, is, based, on, psychological, hor...\n",
              "15902    [Remember, the, times, at, the, movies?, Maybe...\n",
              "15903    [Roguelite, bullet-hell, meets, sexy, anime, i...\n",
              "15904    [Create, and, customize, your, own, campground...\n",
              "15905    [經典商業模擬遊戲《創業王》讓你一圓當老闆的夢想！選地建廠，佈置廠房、僱用員工，打造夢幻生產...\n",
              "Name: detail, Length: 15906, dtype: object"
            ]
          },
          "metadata": {},
          "execution_count": 17
        }
      ],
      "source": [
        "#Making a column of name \"detail\" which have both description and tags text\n",
        "df['detail'] = df['desc'] + df['genre']\n",
        "df['detail']"
      ]
    },
    {
      "cell_type": "code",
      "execution_count": 18,
      "metadata": {
        "colab": {
          "base_uri": "https://localhost:8080/",
          "height": 285
        },
        "id": "0WmyYMvSTjF8",
        "outputId": "5b9538dd-024d-45dc-9b79-efcd289a1ce6"
      },
      "outputs": [
        {
          "output_type": "stream",
          "name": "stderr",
          "text": [
            "<ipython-input-18-f428c562fed6>:3: SettingWithCopyWarning: \n",
            "A value is trying to be set on a copy of a slice from a DataFrame.\n",
            "Try using .loc[row_indexer,col_indexer] = value instead\n",
            "\n",
            "See the caveats in the documentation: https://pandas.pydata.org/pandas-docs/stable/user_guide/indexing.html#returning-a-view-versus-a-copy\n",
            "  cldata['detail'] = cldata['detail'].apply(lambda x:\" \".join(x))\n",
            "<ipython-input-18-f428c562fed6>:6: SettingWithCopyWarning: \n",
            "A value is trying to be set on a copy of a slice from a DataFrame.\n",
            "Try using .loc[row_indexer,col_indexer] = value instead\n",
            "\n",
            "See the caveats in the documentation: https://pandas.pydata.org/pandas-docs/stable/user_guide/indexing.html#returning-a-view-versus-a-copy\n",
            "  cldata['detail'] = cldata['detail'].apply(lambda x:x.lower())\n"
          ]
        },
        {
          "output_type": "execute_result",
          "data": {
            "text/plain": [
              "\"call of duty is back, redefining war like you've never experienced before. building on the call of duty 4®: modern warfare engine, call of duty: world at war immerses players into the most gritty and chaotic wwii combat ever experienced. zombies worldwarii fps multiplayer action shooter co-op singleplayer moddable first-person war onlineco-op gore historical classic survival greatsoundtrack tanks horror adventure\""
            ],
            "application/vnd.google.colaboratory.intrinsic+json": {
              "type": "string"
            }
          },
          "metadata": {},
          "execution_count": 18
        }
      ],
      "source": [
        "#Taking the combined data \"detail\" and removed the acess data\n",
        "cldata = df[['title','detail']]\n",
        "cldata['detail'] = cldata['detail'].apply(lambda x:\" \".join(x))\n",
        "\n",
        "#Lower Casing the \"detail\" as its a standard for nlp\n",
        "cldata['detail'] = cldata['detail'].apply(lambda x:x.lower())\n",
        "\n",
        "cldata['detail'][0]\n"
      ]
    },
    {
      "cell_type": "code",
      "execution_count": 39,
      "metadata": {
        "id": "fD6qGrvzWAqI"
      },
      "outputs": [],
      "source": [
        "#Extracting feature \n",
        "cv = TfidfVectorizer(max_features=300,stop_words=\"english\") #Creating object of TfidfVectorizer class"
      ]
    },
    {
      "cell_type": "code",
      "execution_count": 40,
      "metadata": {
        "colab": {
          "base_uri": "https://localhost:8080/"
        },
        "id": "2I3d5mb6XXfq",
        "outputId": "b8d933ca-1436-4d2e-be8b-83495c825154"
      },
      "outputs": [
        {
          "output_type": "execute_result",
          "data": {
            "text/plain": [
              "array([[0.        , 0.        , 0.        , ..., 0.12653822, 0.        ,\n",
              "        0.21362903],\n",
              "       [0.        , 0.        , 0.        , ..., 0.        , 0.        ,\n",
              "        0.        ],\n",
              "       [0.        , 0.        , 0.11771871, ..., 0.        , 0.        ,\n",
              "        0.        ],\n",
              "       ...,\n",
              "       [0.        , 0.        , 0.        , ..., 0.        , 0.        ,\n",
              "        0.        ],\n",
              "       [0.        , 0.        , 0.15889771, ..., 0.        , 0.        ,\n",
              "        0.        ],\n",
              "       [0.        , 0.        , 0.        , ..., 0.        , 0.        ,\n",
              "        0.        ]])"
            ]
          },
          "metadata": {},
          "execution_count": 40
        }
      ],
      "source": [
        "vector = cv.fit_transform(cldata['detail']).toarray()\n",
        "#To check feature name extracted by TfidfVectorizer\n",
        "#cv.get_feature_names()\n",
        "vector"
      ]
    },
    {
      "cell_type": "code",
      "execution_count": 43,
      "metadata": {
        "id": "q4lsQ-7yYyWC"
      },
      "outputs": [],
      "source": [
        "#Creating object of PorterStemmer\n",
        "ps = PorterStemmer()  "
      ]
    },
    {
      "cell_type": "code",
      "execution_count": 42,
      "metadata": {
        "id": "pCKJszQuZgUv"
      },
      "outputs": [],
      "source": [
        "#Making fuction for steming the text \n",
        "def stem(txt):\n",
        "  k = []\n",
        "  for i in txt.split():\n",
        "    k.append(ps.stem(i))\n",
        "  return \" \".join(k)"
      ]
    },
    {
      "cell_type": "code",
      "execution_count": 44,
      "metadata": {
        "colab": {
          "base_uri": "https://localhost:8080/"
        },
        "id": "WMOHEV_DZ_5j",
        "outputId": "eedf1f0c-15f0-4804-f7da-aa89dd1f400c"
      },
      "outputs": [
        {
          "output_type": "stream",
          "name": "stderr",
          "text": [
            "<ipython-input-44-9534ad6a418d>:2: SettingWithCopyWarning: \n",
            "A value is trying to be set on a copy of a slice from a DataFrame.\n",
            "Try using .loc[row_indexer,col_indexer] = value instead\n",
            "\n",
            "See the caveats in the documentation: https://pandas.pydata.org/pandas-docs/stable/user_guide/indexing.html#returning-a-view-versus-a-copy\n",
            "  cldata['detail'] = cldata['detail'].apply(stem)\n"
          ]
        }
      ],
      "source": [
        "#Applying stem to \"detail\"\n",
        "cldata['detail'] = cldata['detail'].apply(stem)"
      ]
    },
    {
      "cell_type": "code",
      "execution_count": 45,
      "metadata": {
        "colab": {
          "base_uri": "https://localhost:8080/",
          "height": 71
        },
        "id": "HfD3KaIHad8e",
        "outputId": "b7746e3d-be26-4d36-a067-327ee674f557"
      },
      "outputs": [
        {
          "output_type": "execute_result",
          "data": {
            "text/plain": [
              "\"call of duti is back, redefin war like you'v never experienc before. build on the call of duti 4®: modern warfar engine, call of duty: world at war immer player into the most gritti and chaotic wwii combat ever experienced. zombi worldwarii fp multiplay action shooter co-op singleplay moddabl first-person war onlineco-op gore histor classic surviv greatsoundtrack tank horror adventur\""
            ],
            "application/vnd.google.colaboratory.intrinsic+json": {
              "type": "string"
            }
          },
          "metadata": {},
          "execution_count": 45
        }
      ],
      "source": [
        "cldata['detail'][0]"
      ]
    },
    {
      "cell_type": "code",
      "execution_count": 46,
      "metadata": {
        "id": "FJjT6m-Na4pj"
      },
      "outputs": [],
      "source": [
        "similar = cosine_similarity(vector)"
      ]
    },
    {
      "cell_type": "code",
      "execution_count": 51,
      "metadata": {
        "id": "fQqcJLseymRf"
      },
      "outputs": [],
      "source": [
        "def recommend(val):\n",
        "  game_ind = df[df['title'] == val].index[0]\n",
        "  distance = similar[game_ind]\n",
        "  game_list = sorted(list(enumerate(distance)),reverse=True, key= lambda x: x[1])[:5]\n",
        "  for i in game_list:\n",
        "    print(\"Recommended Game:\",df.iloc[i[0]].title)\n",
        "    print(\"Description:\",\" \".join(df.iloc[i[0]].desc))\n",
        "    print(\"Available for:\",end=\" \")\n",
        "    l = [df.iloc[i[0]].win,df.iloc[i[0]].mac,df.iloc[i[0]].linux]\n",
        "    count = 0\n",
        "    for j in l:\n",
        "      if j==True and count==0:\n",
        "        print(\"Windows\",end=\"\")\n",
        "        count +=1\n",
        "      elif j==True and count==1:\n",
        "        print(\", Mac\",end=\"\")\n",
        "        count +=1\n",
        "      elif j==True and count==2:\n",
        "        print(\", Linux\")\n",
        "    print(\"\\n\")"
      ]
    },
    {
      "cell_type": "code",
      "source": [
        "#result analysis\n",
        "def result(val):\n",
        "  game_ind = df[df['title'] == val].index[0]\n",
        "  distance = similar[game_ind]\n",
        "  res = sorted(list(enumerate(distance)),reverse=True, key= lambda x: x[1])[:5]\n",
        "  print(\"Result Analysis\",*res,sep=\"\\n\")"
      ],
      "metadata": {
        "id": "mxpqfG1VTRJw"
      },
      "execution_count": 50,
      "outputs": []
    },
    {
      "cell_type": "code",
      "source": [
        "user_input = input(\"Give the name of your favourite game: \")\n",
        "find_close_match = difflib.get_close_matches(user_input,df['title'])\n",
        "recommend(find_close_match[0])\n",
        "result(find_close_match[0])"
      ],
      "metadata": {
        "id": "H5ok2JbuObMJ",
        "colab": {
          "base_uri": "https://localhost:8080/"
        },
        "outputId": "0ea36dc6-3f27-41e3-fd4d-d3459b7c8963"
      },
      "execution_count": 57,
      "outputs": [
        {
          "output_type": "stream",
          "name": "stdout",
          "text": [
            "Give the name of your favourite game: resident evil\n",
            "Recommended Game: Resident Evil\n",
            "Description: The game that defined the survival-horror genre is back! Check out the remastered HD version of Resident Evil.\n",
            "Available for: Windows\n",
            "\n",
            "Recommended Game: resident evil 4 (2005)\n",
            "Description: (Release: 2014) Special agent Leon S. Kennedy is sent on a mission to rescue the U.S. President’s daughter who has been kidnapped.\n",
            "Available for: Windows\n",
            "\n",
            "Recommended Game: Them and Us\n",
            "Description: Them and Us is a classic, survival horror game with a focus on atmosphere and player immersion. Discover the truth of Alicia’s past as she descends further into her strange, unending nightmare.\n",
            "Available for: Windows\n",
            "\n",
            "Recommended Game: Resident Evil 2\n",
            "Description: A deadly virus engulfs the residents of Raccoon City in September of 1998, plunging the city into chaos as flesh eating zombies roam the streets for survivors. An unparalleled adrenaline rush, gripping storyline, and unimaginable horrors await you. Witness the return of Resident Evil 2.\n",
            "Available for: Windows\n",
            "\n",
            "Recommended Game: Resident Evil 0\n",
            "Description: Before the mansion, before the destruction of Raccoon City, there was Resident Evil 0. Now remastered with improved visuals and sounds, as well as the all-new Wesker Mode, there's never been a better time to experience the origins of the Resident Evil story.\n",
            "Available for: Windows\n",
            "\n",
            "Result Analysis\n",
            "(4006, 1.0)\n",
            "(2286, 0.7816485739727572)\n",
            "(11528, 0.7392742959779498)\n",
            "(13188, 0.7362683175642852)\n",
            "(9177, 0.7158884116752239)\n"
          ]
        }
      ]
    }
  ],
  "metadata": {
    "colab": {
      "provenance": []
    },
    "kernelspec": {
      "display_name": "Python 3",
      "name": "python3"
    },
    "language_info": {
      "name": "python"
    }
  },
  "nbformat": 4,
  "nbformat_minor": 0
}